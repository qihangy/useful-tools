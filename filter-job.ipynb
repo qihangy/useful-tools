{
 "cells": [
  {
   "cell_type": "code",
   "execution_count": 6,
   "metadata": {},
   "outputs": [],
   "source": [
    "import pandas as pd\n",
    "df = pd.read_excel('/Users/guapofish/Desktop/2020最新岗位信息20200526.xlsx','北美全职 ')\n",
    "df = df[['更新时间', '行业', '企业', '地区', '招聘岗位', '网申通道']]"
   ]
  },
  {
   "cell_type": "code",
   "execution_count": 14,
   "metadata": {},
   "outputs": [],
   "source": [
    "class Job_search():\n",
    "    \n",
    "    def __init__(self,df,num):\n",
    "        self.df = df \n",
    "        self.num = num\n",
    "    \n",
    "    def find_field(self,field):\n",
    "        \n",
    "        self.df = self.df[self.df['行业'] == field]\n",
    "        return self.df.to_excel('/Users/guapofish/Desktop/'+field+'.xlsx')  \n",
    "    \n",
    "    def find_region(self,region):\n",
    "        \n",
    "        self.df = self.df[self.df['地区'] == region]\n",
    "        return self.df.to_excel('/Users/guapofish/Desktop/'+region+'.xlsx')  \n",
    "    \n",
    "    def get_top_list(self):\n",
    "    \n",
    "        Top_num = list(pd.value_counts(self.df['行业'])[:self.num].index)\n",
    "        return Top_num\n",
    "    \n",
    "    def Top_num(self):\n",
    "               \n",
    "        l = self.get_top_list()\n",
    "           \n",
    "        for item in l:\n",
    "            df_item = self.df\n",
    "            df_item = df_item[df_item['行业'] == item]\n",
    "            print('Finished ' + item)\n",
    "            df_item.to_excel('/Users/guapofish/Desktop/2020最新岗位信息/'+item+'.xlsx')  \n",
    "        "
   ]
  },
  {
   "cell_type": "code",
   "execution_count": 15,
   "metadata": {},
   "outputs": [],
   "source": [
    "a = Job_search(df,20)\n",
    "#a.find_field('投行')\n",
    "a.Top_num()\n",
    "\n",
    "a = Job_search(df,20)\n",
    "a.find_region('NY')"
   ]
  },
  {
   "cell_type": "code",
   "execution_count": 19,
   "metadata": {},
   "outputs": [],
   "source": [
    "df_ny = pd.read_excel('/Users/guapofish/Desktop/NY.xlsx')\n",
    "df_ny = df_ny[['更新时间', '行业', '企业', '地区', '招聘岗位', '网申通道']]"
   ]
  },
  {
   "cell_type": "code",
   "execution_count": 22,
   "metadata": {},
   "outputs": [
    {
     "name": "stdout",
     "output_type": "stream",
     "text": [
      "Finished 金融\n",
      "Finished IT\n",
      "Finished 投行\n",
      "Finished 咨询\n",
      "Finished 信息技术\n",
      "Finished 人力\n",
      "Finished 人力资源\n",
      "Finished 会计\n",
      "Finished 商业服务\n",
      "Finished 保险\n",
      "Finished 媒体\n",
      "Finished 医疗\n",
      "Finished 医疗保健\n",
      "Finished 互联网\n",
      "Finished 市场营销\n",
      "Finished 商业分析\n",
      "Finished 娱乐\n",
      "Finished 软件\n",
      "Finished 教育\n",
      "Finished Financial Service\n"
     ]
    }
   ],
   "source": [
    "b = Job_search(df_ny,20)\n",
    "b.Top_num()"
   ]
  },
  {
   "cell_type": "code",
   "execution_count": null,
   "metadata": {},
   "outputs": [],
   "source": []
  },
  {
   "cell_type": "code",
   "execution_count": null,
   "metadata": {},
   "outputs": [],
   "source": []
  },
  {
   "cell_type": "code",
   "execution_count": null,
   "metadata": {},
   "outputs": [],
   "source": []
  },
  {
   "cell_type": "code",
   "execution_count": 9,
   "metadata": {},
   "outputs": [],
   "source": [
    "def find_field(field):\n",
    "    df = pd.read_excel('/Users/guapofish/Desktop/2020最新岗位信息20200526.xlsx','北美全职 ')\n",
    "    df = df[['更新时间', '行业', '企业', '地区', '招聘岗位', '网申通道']]\n",
    "    df = df[df['行业'] == field]\n",
    "    return df.to_excel('/Users/guapofish/Desktop/2020最新岗位信息/'+field+'.xlsx')  \n",
    "    "
   ]
  },
  {
   "cell_type": "code",
   "execution_count": 10,
   "metadata": {},
   "outputs": [],
   "source": [
    "def get_top_list(num):\n",
    "    \n",
    "    df = pd.read_excel('/Users/guapofish/Desktop/2020最新岗位信息20200526.xlsx','北美全职 ')\n",
    "    df = df[['更新时间', '行业', '企业', '地区', '招聘岗位', '网申通道']]\n",
    "    Top_num = list(pd.value_counts(df['行业'])[:num].index)\n",
    "    return Top_num\n"
   ]
  },
  {
   "cell_type": "code",
   "execution_count": 11,
   "metadata": {},
   "outputs": [
    {
     "data": {
      "text/plain": [
       "['IT',\n",
       " '金融',\n",
       " '咨询',\n",
       " '投行',\n",
       " '信息技术',\n",
       " '会计',\n",
       " '人力资源',\n",
       " '人力',\n",
       " '商业服务',\n",
       " '医疗保健',\n",
       " '保险',\n",
       " '互联网',\n",
       " '软件',\n",
       " '地产',\n",
       " '医疗健康',\n",
       " '医疗',\n",
       " '媒体',\n",
       " '市场营销',\n",
       " '科技',\n",
       " '商业分析']"
      ]
     },
     "execution_count": 11,
     "metadata": {},
     "output_type": "execute_result"
    }
   ],
   "source": [
    "get_top_list(20)"
   ]
  },
  {
   "cell_type": "code",
   "execution_count": 31,
   "metadata": {},
   "outputs": [],
   "source": [
    "def Top_num(l):\n",
    "    \n",
    "    for item in l:\n",
    "        df_item = df\n",
    "        df_item = df_item[df_item['行业'] == item]\n",
    "        print('Finished ' + item)\n",
    "        df_item.to_excel('/Users/guapofish/Desktop/2020最新岗位信息/'+item+'.xlsx')  \n",
    "\n",
    "Top_num(Top_20)"
   ]
  },
  {
   "cell_type": "code",
   "execution_count": null,
   "metadata": {},
   "outputs": [],
   "source": []
  }
 ],
 "metadata": {
  "kernelspec": {
   "display_name": "Python 3",
   "language": "python",
   "name": "python3"
  },
  "language_info": {
   "codemirror_mode": {
    "name": "ipython",
    "version": 3
   },
   "file_extension": ".py",
   "mimetype": "text/x-python",
   "name": "python",
   "nbconvert_exporter": "python",
   "pygments_lexer": "ipython3",
   "version": "3.7.6"
  }
 },
 "nbformat": 4,
 "nbformat_minor": 4
}
