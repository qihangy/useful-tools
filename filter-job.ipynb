{
 "cells": [
  {
   "cell_type": "code",
   "execution_count": 1,
   "metadata": {},
   "outputs": [],
   "source": [
    "import pandas as pd\n",
    "df = pd.read_excel('/Users/guapofish/Desktop/2020最新岗位信息20200526.xlsx','北美全职 ')\n",
    "df = df[['更新时间', '行业', '企业', '地区', '招聘岗位', '网申通道']]"
   ]
  },
  {
   "cell_type": "code",
   "execution_count": 2,
   "metadata": {},
   "outputs": [],
   "source": [
    "class Job_search():\n",
    "    \n",
    "    def __init__(self,df,num):\n",
    "        self.df = df \n",
    "        self.num = num\n",
    "    \n",
    "    def find_field(self,field):\n",
    "        \n",
    "        self.df = self.df[self.df['行业'] == field]\n",
    "        return self.df.to_excel('/Users/guapofish/Desktop/'+field+'.xlsx')  \n",
    "    \n",
    "    def find_region(self,region):\n",
    "        \n",
    "        self.df = self.df[self.df['地区'] == region]\n",
    "        return self.df.to_excel('/Users/guapofish/Desktop/'+region+'.xlsx')  \n",
    "    \n",
    "    def get_top_list(self):\n",
    "    \n",
    "        Top_num = list(pd.value_counts(self.df['行业'])[:self.num].index)\n",
    "        return Top_num\n",
    "    \n",
    "    def Top_num(self):\n",
    "               \n",
    "        l = self.get_top_list()\n",
    "           \n",
    "        for item in l:\n",
    "            df_item = self.df\n",
    "            df_item = df_item[df_item['行业'] == item]\n",
    "            print('Finished ' + item)\n",
    "            df_item.to_excel('/Users/guapofish/Desktop/2020最新岗位信息/'+item+'.xlsx')  \n",
    "        "
   ]
  },
  {
   "cell_type": "code",
   "execution_count": 3,
   "metadata": {},
   "outputs": [
    {
     "name": "stdout",
     "output_type": "stream",
     "text": [
      "Finished IT\n",
      "Finished 金融\n",
      "Finished 咨询\n",
      "Finished 投行\n",
      "Finished 信息技术\n",
      "Finished 会计\n",
      "Finished 人力资源\n",
      "Finished 人力\n",
      "Finished 商业服务\n",
      "Finished 医疗保健\n",
      "Finished 保险\n",
      "Finished 互联网\n",
      "Finished 地产\n",
      "Finished 医疗健康\n",
      "Finished 软件\n",
      "Finished 医疗\n",
      "Finished 媒体\n",
      "Finished 市场营销\n",
      "Finished 科技\n",
      "Finished 商业分析\n"
     ]
    }
   ],
   "source": [
    "a = Job_search(df,20)\n",
    "#a.find_field('投行')\n",
    "a.Top_num()"
   ]
  },
  {
   "cell_type": "code",
   "execution_count": 4,
   "metadata": {},
   "outputs": [],
   "source": [
    "a = Job_search(df,20)\n",
    "a.find_region('NY')"
   ]
  },
  {
   "cell_type": "code",
   "execution_count": 5,
   "metadata": {},
   "outputs": [],
   "source": [
    "df_ny = pd.read_excel('/Users/guapofish/Desktop/NY.xlsx')\n",
    "df_ny = df_ny[['更新时间', '行业', '企业', '地区', '招聘岗位', '网申通道']]"
   ]
  },
  {
   "cell_type": "code",
   "execution_count": 6,
   "metadata": {},
   "outputs": [
    {
     "name": "stdout",
     "output_type": "stream",
     "text": [
      "Finished 金融\n",
      "Finished IT\n",
      "Finished 投行\n",
      "Finished 咨询\n",
      "Finished 信息技术\n",
      "Finished 人力\n",
      "Finished 人力资源\n",
      "Finished 会计\n",
      "Finished 商业服务\n",
      "Finished 保险\n",
      "Finished 医疗\n",
      "Finished 媒体\n",
      "Finished 医疗保健\n",
      "Finished 互联网\n",
      "Finished 市场营销\n",
      "Finished 娱乐\n",
      "Finished 商业分析\n",
      "Finished 软件\n",
      "Finished 教育\n",
      "Finished Financial Service\n"
     ]
    }
   ],
   "source": [
    "b = Job_search(df_ny,20)\n",
    "b.Top_num()"
   ]
  }
 ],
 "metadata": {
  "kernelspec": {
   "display_name": "Python 3",
   "language": "python",
   "name": "python3"
  },
  "language_info": {
   "codemirror_mode": {
    "name": "ipython",
    "version": 3
   },
   "file_extension": ".py",
   "mimetype": "text/x-python",
   "name": "python",
   "nbconvert_exporter": "python",
   "pygments_lexer": "ipython3",
   "version": "3.7.6"
  }
 },
 "nbformat": 4,
 "nbformat_minor": 4
}
