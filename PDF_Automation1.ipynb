{
 "cells": [
  {
   "cell_type": "code",
   "execution_count": 1,
   "metadata": {},
   "outputs": [],
   "source": [
    "from selenium import webdriver\n",
    "from selenium.webdriver.common.by import By\n",
    "from selenium.webdriver.chrome.options import Options\n",
    "from selenium.webdriver.support.wait import WebDriverWait\n",
    "from selenium.webdriver.support import expected_conditions as EC\n",
    "\n",
    "import pickle\n",
    "import pandas as pd\n",
    "import numpy as np\n",
    "import time\n",
    "import re \n",
    "\n",
    "import tabula\n",
    "from tabula import read_pdf\n",
    "import PyPDF2"
   ]
  },
  {
   "cell_type": "code",
   "execution_count": 2,
   "metadata": {},
   "outputs": [],
   "source": [
    "class PDFAutomation:\n",
    "    \n",
    "    def __init__(self,crd):\n",
    "        self.crd = str(crd)\n",
    "        \n",
    "    def automateTask(self):\n",
    "\n",
    "        web_url = \"https://reports.adviserinfo.sec.gov/reports/ADV/\"+ self.crd + \"/PDF/\"+ self.crd +\".pdf\"\n",
    "        download_dir = \"/Users/guapofish/Desktop/Deer Isle Group/John Niederer Part\"\n",
    "        \n",
    "        #driver = webdriver.Chrome('/Users/guapofish/Desktop/Linkedin Scraping desktop/chromedriver')\n",
    "        \n",
    "        prefs = {\n",
    "            \"download.default_directory\": download_dir,\n",
    "            \"download.prompt_for_download\": False,\n",
    "            \"download.directory_upgrade\":True,\n",
    "            \"plugins.always_open_pdf_externally\":True\n",
    "        }\n",
    "        \n",
    "        chromeOptions = Options()\n",
    "        chromeOptions.add_experimental_option(\"prefs\", prefs)\n",
    "    \n",
    "        driver = webdriver.Chrome(executable_path=\"/Users/guapofish/Desktop/Linkedin Scraping desktop/chromedriver\",\n",
    "                                  chrome_options=chromeOptions)\n",
    "        \n",
    "        try:\n",
    "            #driver.maximize_window()\n",
    "            driver.get(web_url)\n",
    "\n",
    "            time.sleep(1)\n",
    "            driver.quit()\n",
    "        \n",
    "        except:\n",
    "            print(\"The crd number {} has error extracting\".format(self.crd))\n",
    "            driver.quit()\n",
    "            \n",
    "    @classmethod\n",
    "    def auto_download_range(cls,start,end):\n",
    "        \n",
    "        with open ('/Users/guapofish/crdlist_FILE', 'rb') as fp:\n",
    "            l = pickle.load(fp)\n",
    "        \n",
    "        missing_crd = []\n",
    "        for item in l[start:end]:            \n",
    "            try:\n",
    "                s = cls(item)\n",
    "                s.automateTask()\n",
    "                \n",
    "            except:\n",
    "                missing_crd.append(item)\n",
    "                print(\"Error: crd number {} \".format(item))\n",
    "\n"
   ]
  },
  {
   "cell_type": "code",
   "execution_count": 3,
   "metadata": {},
   "outputs": [
    {
     "name": "stderr",
     "output_type": "stream",
     "text": [
      "/Users/guapofish/opt/anaconda3/lib/python3.7/site-packages/ipykernel_launcher.py:24: DeprecationWarning: use options instead of chrome_options\n"
     ]
    }
   ],
   "source": [
    "PDFAutomation.auto_download_range(314,317)"
   ]
  },
  {
   "cell_type": "code",
   "execution_count": null,
   "metadata": {},
   "outputs": [],
   "source": []
  }
 ],
 "metadata": {
  "kernelspec": {
   "display_name": "Python 3",
   "language": "python",
   "name": "python3"
  },
  "language_info": {
   "codemirror_mode": {
    "name": "ipython",
    "version": 3
   },
   "file_extension": ".py",
   "mimetype": "text/x-python",
   "name": "python",
   "nbconvert_exporter": "python",
   "pygments_lexer": "ipython3",
   "version": "3.7.6"
  }
 },
 "nbformat": 4,
 "nbformat_minor": 4
}
